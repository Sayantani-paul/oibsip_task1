{
 "cells": [
  {
   "cell_type": "code",
   "execution_count": 10,
   "id": "9b09d29e",
   "metadata": {},
   "outputs": [
    {
     "name": "stdout",
     "output_type": "stream",
     "text": [
      "listening\n",
      "who is mahatma gandhi\n",
      "Mohandas Karamchand Gandhi (2 October 1869 – 30 January 1948)  was an Indian lawyer, anti-colonial nationalist and political ethicist who employed nonviolent resistance to lead the successful campaign for India's independence from British rule.\n"
     ]
    }
   ],
   "source": [
    "import speech_recognition as aa\n",
    "import pyttsx3\n",
    "import pywhatkit\n",
    "import datetime\n",
    "import wikipedia\n",
    "\n",
    "\n",
    "\n",
    "\n",
    "listener = aa.Recognizer()\n",
    "\n",
    "machine = pyttsx3.init()\n",
    "\n",
    "def talk(text):\n",
    "    machine.say(text)\n",
    "\n",
    "machine.runAndWait()\n",
    "\n",
    "def input_instruction():\n",
    "    global instruction\n",
    "    try:\n",
    "        with aa.Microphone() as origin:\n",
    "            print(\"listening\")\n",
    "            speech = listener.listen(origin)\n",
    "            instruction = listener.recognize_google(speech)\n",
    "            instruction = instruction.lower()\n",
    "            if \"jarvis\" in instruction:\n",
    "                instruction = instruction.replace('jarvis', '')\n",
    "                print(instruction)\n",
    "            \n",
    "\n",
    "\n",
    "    except:\n",
    "        pass\n",
    "    return instruction\n",
    "\n",
    "def play_Jarvis():\n",
    "    instruction = input_instruction()\n",
    "    print(instruction)\n",
    "    if 'play' in instruction:\n",
    "        song = instruction.replace('play', \"\")\n",
    "        talk(\"playing\" + song)\n",
    "        pywhatkit.playonyt(song)\n",
    "\n",
    "    elif 'time' in instruction:\n",
    "        time = datetime.datetime.now().strftime('%I:%M%p')\n",
    "        talk('Current time' + time)\n",
    "\n",
    "    elif 'date' in instruction:\n",
    "        date = datetime.datetime.now().strftime('%d /%m /%Y')\n",
    "        talk(\"Today's date \" + date)\n",
    "\n",
    "    elif 'how are you' in instruction:\n",
    "        talk('I am fine, how about you')\n",
    "\n",
    "    elif 'what is your name' in instruction:\n",
    "        talk('I am your personalized assistant, What can I do for you?')\n",
    "\n",
    "    elif 'who is' in instruction:\n",
    "        human = instruction.replace('who is', \"\")\n",
    "        info = wikipedia.summary(human, 1)\n",
    "        print(info)\n",
    "        talk(info)\n",
    "\n",
    "    else:\n",
    "        talk('Please repeat')\n",
    "\n",
    "play_Jarvis()"
   ]
  },
  {
   "cell_type": "code",
   "execution_count": null,
   "id": "c64daadb",
   "metadata": {},
   "outputs": [],
   "source": []
  }
 ],
 "metadata": {
  "kernelspec": {
   "display_name": "Python 3",
   "language": "python",
   "name": "python3"
  },
  "language_info": {
   "codemirror_mode": {
    "name": "ipython",
    "version": 3
   },
   "file_extension": ".py",
   "mimetype": "text/x-python",
   "name": "python",
   "nbconvert_exporter": "python",
   "pygments_lexer": "ipython3",
   "version": "3.8.8"
  }
 },
 "nbformat": 4,
 "nbformat_minor": 5
}
